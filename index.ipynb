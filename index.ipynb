{
 "cells": [
  {
   "cell_type": "markdown",
   "metadata": {},
   "source": [
    "# Website A/B Testing - Lab\n",
    "\n",
    "## Introduction\n",
    "\n",
    "In this lab, you'll get another chance to practice your skills at conducting a full A/B test analysis. It will also be a chance to practice your data exploration and processing skills! The scenario you'll be investigating is data collected from the homepage of a music app page for audacity.\n",
    "\n",
    "## Objectives\n",
    "\n",
    "You will be able to:\n",
    "* Analyze the data from a website A/B test to draw relevant conclusions\n",
    "* Explore and analyze web action data"
   ]
  },
  {
   "cell_type": "markdown",
   "metadata": {},
   "source": [
    "## Exploratory Analysis\n",
    "\n",
    "Start by loading in the dataset stored in the file 'homepage_actions.csv'. Then conduct an exploratory analysis to get familiar with the data."
   ]
  },
  {
   "cell_type": "markdown",
   "metadata": {},
   "source": [
    "> Hints:\n",
    "    * Start investigating the id column:\n",
    "        * How many viewers also clicked?\n",
    "        * Are there any anomalies with the data; did anyone click who didn't view?\n",
    "        * Is there any overlap between the control and experiment groups? \n",
    "            * If so, how do you plan to account for this in your experimental design?"
   ]
  },
  {
   "cell_type": "code",
   "execution_count": 56,
   "metadata": {},
   "outputs": [],
   "source": [
    "import scipy.stats as stats\n",
    "import pandas as pd\n",
    "import matplotlib.pyplot as plt\n",
    "import numpy as np\n",
    "%matplotlib inline"
   ]
  },
  {
   "cell_type": "code",
   "execution_count": 3,
   "metadata": {},
   "outputs": [
    {
     "data": {
      "text/html": [
       "<div>\n",
       "<style scoped>\n",
       "    .dataframe tbody tr th:only-of-type {\n",
       "        vertical-align: middle;\n",
       "    }\n",
       "\n",
       "    .dataframe tbody tr th {\n",
       "        vertical-align: top;\n",
       "    }\n",
       "\n",
       "    .dataframe thead th {\n",
       "        text-align: right;\n",
       "    }\n",
       "</style>\n",
       "<table border=\"1\" class=\"dataframe\">\n",
       "  <thead>\n",
       "    <tr style=\"text-align: right;\">\n",
       "      <th></th>\n",
       "      <th>timestamp</th>\n",
       "      <th>id</th>\n",
       "      <th>group</th>\n",
       "      <th>action</th>\n",
       "    </tr>\n",
       "  </thead>\n",
       "  <tbody>\n",
       "    <tr>\n",
       "      <th>0</th>\n",
       "      <td>2016-09-24 17:42:27.839496</td>\n",
       "      <td>804196</td>\n",
       "      <td>experiment</td>\n",
       "      <td>view</td>\n",
       "    </tr>\n",
       "    <tr>\n",
       "      <th>1</th>\n",
       "      <td>2016-09-24 19:19:03.542569</td>\n",
       "      <td>434745</td>\n",
       "      <td>experiment</td>\n",
       "      <td>view</td>\n",
       "    </tr>\n",
       "    <tr>\n",
       "      <th>2</th>\n",
       "      <td>2016-09-24 19:36:00.944135</td>\n",
       "      <td>507599</td>\n",
       "      <td>experiment</td>\n",
       "      <td>view</td>\n",
       "    </tr>\n",
       "    <tr>\n",
       "      <th>3</th>\n",
       "      <td>2016-09-24 19:59:02.646620</td>\n",
       "      <td>671993</td>\n",
       "      <td>control</td>\n",
       "      <td>view</td>\n",
       "    </tr>\n",
       "    <tr>\n",
       "      <th>4</th>\n",
       "      <td>2016-09-24 20:26:14.466886</td>\n",
       "      <td>536734</td>\n",
       "      <td>experiment</td>\n",
       "      <td>view</td>\n",
       "    </tr>\n",
       "    <tr>\n",
       "      <th>...</th>\n",
       "      <td>...</td>\n",
       "      <td>...</td>\n",
       "      <td>...</td>\n",
       "      <td>...</td>\n",
       "    </tr>\n",
       "    <tr>\n",
       "      <th>8183</th>\n",
       "      <td>2017-01-18 09:11:41.984113</td>\n",
       "      <td>192060</td>\n",
       "      <td>experiment</td>\n",
       "      <td>view</td>\n",
       "    </tr>\n",
       "    <tr>\n",
       "      <th>8184</th>\n",
       "      <td>2017-01-18 09:42:12.844575</td>\n",
       "      <td>755912</td>\n",
       "      <td>experiment</td>\n",
       "      <td>view</td>\n",
       "    </tr>\n",
       "    <tr>\n",
       "      <th>8185</th>\n",
       "      <td>2017-01-18 10:01:09.026482</td>\n",
       "      <td>458115</td>\n",
       "      <td>experiment</td>\n",
       "      <td>view</td>\n",
       "    </tr>\n",
       "    <tr>\n",
       "      <th>8186</th>\n",
       "      <td>2017-01-18 10:08:51.588469</td>\n",
       "      <td>505451</td>\n",
       "      <td>control</td>\n",
       "      <td>view</td>\n",
       "    </tr>\n",
       "    <tr>\n",
       "      <th>8187</th>\n",
       "      <td>2017-01-18 10:24:08.629327</td>\n",
       "      <td>461199</td>\n",
       "      <td>control</td>\n",
       "      <td>view</td>\n",
       "    </tr>\n",
       "  </tbody>\n",
       "</table>\n",
       "<p>8188 rows × 4 columns</p>\n",
       "</div>"
      ],
      "text/plain": [
       "                       timestamp      id       group action\n",
       "0     2016-09-24 17:42:27.839496  804196  experiment   view\n",
       "1     2016-09-24 19:19:03.542569  434745  experiment   view\n",
       "2     2016-09-24 19:36:00.944135  507599  experiment   view\n",
       "3     2016-09-24 19:59:02.646620  671993     control   view\n",
       "4     2016-09-24 20:26:14.466886  536734  experiment   view\n",
       "...                          ...     ...         ...    ...\n",
       "8183  2017-01-18 09:11:41.984113  192060  experiment   view\n",
       "8184  2017-01-18 09:42:12.844575  755912  experiment   view\n",
       "8185  2017-01-18 10:01:09.026482  458115  experiment   view\n",
       "8186  2017-01-18 10:08:51.588469  505451     control   view\n",
       "8187  2017-01-18 10:24:08.629327  461199     control   view\n",
       "\n",
       "[8188 rows x 4 columns]"
      ]
     },
     "execution_count": 3,
     "metadata": {},
     "output_type": "execute_result"
    }
   ],
   "source": [
    "df = pd.read_csv(\"homepage_actions.csv\")\n",
    "df"
   ]
  },
  {
   "cell_type": "code",
   "execution_count": 17,
   "metadata": {},
   "outputs": [
    {
     "data": {
      "text/plain": [
       "array(['view', 'click'], dtype=object)"
      ]
     },
     "execution_count": 17,
     "metadata": {},
     "output_type": "execute_result"
    }
   ],
   "source": [
    "df['action'].unique()"
   ]
  },
  {
   "cell_type": "code",
   "execution_count": 18,
   "metadata": {},
   "outputs": [
    {
     "data": {
      "text/plain": [
       "view     6328\n",
       "click    1860\n",
       "Name: action, dtype: int64"
      ]
     },
     "execution_count": 18,
     "metadata": {},
     "output_type": "execute_result"
    }
   ],
   "source": [
    "df['action'].value_counts()"
   ]
  },
  {
   "cell_type": "code",
   "execution_count": 42,
   "metadata": {},
   "outputs": [
    {
     "name": "stdout",
     "output_type": "stream",
     "text": [
      "6328\n",
      "1860\n",
      "4468\n",
      "-4468\n"
     ]
    }
   ],
   "source": [
    "v_df = df.loc[df['action'] == 'view', ['id', 'action']]\n",
    "c_df = df.loc[df['action'] == 'click', ['id', 'action']]\n",
    "v = len(v_df['id'].unique())\n",
    "c = len(c_df['id'].unique())\n",
    "print(v)\n",
    "print(c)\n",
    "\"\"\"\n",
    "There are less clickers than viewers therefore everyone who viewed didn't click. \n",
    "\"\"\"\n",
    "print(v - c)\n",
    "#4468 non clicking viewers\n",
    "print(c - v)\n",
    "#-4468 in not possible so all clicker viewed\n",
    "#so the amount of viewers who clicked are the total number of clickers"
   ]
  },
  {
   "cell_type": "code",
   "execution_count": 51,
   "metadata": {},
   "outputs": [
    {
     "name": "stdout",
     "output_type": "stream",
     "text": [
      "No Overlap\n"
     ]
    }
   ],
   "source": [
    "e_df = df.loc[df['group'] == 'experiment', 'id']\n",
    "c_df = df.loc[df['group'] == 'control', 'id']\n",
    "e = e_df.unique()\n",
    "c = c_df.unique()\n",
    "e_c = []\n",
    "for x in e:\n",
    "    for y in c:\n",
    "        if x == y:\n",
    "            e_c.append(1)\n",
    "\n",
    "if sum(e_c) > 0:\n",
    "    print('Overlap')\n",
    "else:\n",
    "    print('No Overlap')\n",
    "            "
   ]
  },
  {
   "cell_type": "markdown",
   "metadata": {},
   "source": [
    "## Conduct a Statistical Test\n",
    "\n",
    "Conduct a statistical test to determine whether the experimental homepage was more effective than that of the control group."
   ]
  },
  {
   "cell_type": "code",
   "execution_count": 52,
   "metadata": {},
   "outputs": [
    {
     "data": {
      "text/plain": [
       "'\\nBecause we are comparing the what the two groups did in terms of actions, that seems to be categorical\\nin nature to me give the data.  Therefore a Chi-squared test would be best. Making a matrix of \\nthe two groups by the actions they took and then running the test.\\n'"
      ]
     },
     "execution_count": 52,
     "metadata": {},
     "output_type": "execute_result"
    }
   ],
   "source": [
    "\"\"\"\n",
    "Because we are comparing the what the two groups did in terms of actions, that seems to be categorical\n",
    "in nature to me give the data.  Therefore a Chi-squared test would be best. Making a matrix of \n",
    "the two groups by the actions they took and then running the test.\n",
    "\"\"\""
   ]
  },
  {
   "cell_type": "code",
   "execution_count": 58,
   "metadata": {},
   "outputs": [
    {
     "data": {
      "text/plain": [
       "'\\nH0:There is no significant difference between the experimental group and the control group\\nHA:There is a difference between the two groups\\nAlpha: using the standard .05 alpha\\n'"
      ]
     },
     "execution_count": 58,
     "metadata": {},
     "output_type": "execute_result"
    }
   ],
   "source": [
    "\"\"\"\n",
    "H0:There is no significant difference between the experimental group and the control group\n",
    "HA:There is a difference between the two groups\n",
    "Alpha: using the standard .05 alpha\n",
    "\"\"\""
   ]
  },
  {
   "cell_type": "code",
   "execution_count": 54,
   "metadata": {},
   "outputs": [
    {
     "data": {
      "text/html": [
       "<div>\n",
       "<style scoped>\n",
       "    .dataframe tbody tr th:only-of-type {\n",
       "        vertical-align: middle;\n",
       "    }\n",
       "\n",
       "    .dataframe tbody tr th {\n",
       "        vertical-align: top;\n",
       "    }\n",
       "\n",
       "    .dataframe thead th {\n",
       "        text-align: right;\n",
       "    }\n",
       "</style>\n",
       "<table border=\"1\" class=\"dataframe\">\n",
       "  <thead>\n",
       "    <tr style=\"text-align: right;\">\n",
       "      <th>action</th>\n",
       "      <th>click</th>\n",
       "      <th>view</th>\n",
       "    </tr>\n",
       "    <tr>\n",
       "      <th>group</th>\n",
       "      <th></th>\n",
       "      <th></th>\n",
       "    </tr>\n",
       "  </thead>\n",
       "  <tbody>\n",
       "    <tr>\n",
       "      <th>control</th>\n",
       "      <td>932</td>\n",
       "      <td>3332</td>\n",
       "    </tr>\n",
       "    <tr>\n",
       "      <th>experiment</th>\n",
       "      <td>928</td>\n",
       "      <td>2996</td>\n",
       "    </tr>\n",
       "  </tbody>\n",
       "</table>\n",
       "</div>"
      ],
      "text/plain": [
       "action      click  view\n",
       "group                  \n",
       "control       932  3332\n",
       "experiment    928  2996"
      ]
     },
     "execution_count": 54,
     "metadata": {},
     "output_type": "execute_result"
    }
   ],
   "source": [
    "chi_table = pd.crosstab(df['group'], df['action'])\n",
    "chi_table"
   ]
  },
  {
   "cell_type": "code",
   "execution_count": 57,
   "metadata": {},
   "outputs": [
    {
     "name": "stdout",
     "output_type": "stream",
     "text": [
      "Chi-square statistic: 3.636160051233291\n",
      "p-value: 0.056537191086915774\n"
     ]
    }
   ],
   "source": [
    "chi2, p, dof, ex = stats.chi2_contingency(chi_table)\n",
    "\n",
    "print(\"Chi-square statistic:\", chi2)\n",
    "print(\"p-value:\", p)"
   ]
  },
  {
   "cell_type": "code",
   "execution_count": 59,
   "metadata": {},
   "outputs": [],
   "source": [
    "#Given this result we would fail to reject the H0"
   ]
  },
  {
   "cell_type": "markdown",
   "metadata": {},
   "source": [
    "## Verifying Results\n",
    "\n",
    "One sensible formulation of the data to answer the hypothesis test above would be to create a binary variable representing each individual in the experiment and control group. This binary variable would represent whether or not that individual clicked on the homepage; 1 for they did and 0 if they did not. \n",
    "\n",
    "The variance for the number of successes in a sample of a binomial variable with n observations is given by:\n",
    "\n",
    "## $n\\bullet p (1-p)$\n",
    "\n",
    "Given this, perform 3 steps to verify the results of your statistical test:\n",
    "1. Calculate the expected number of clicks for the experiment group, if it had the same click-through rate as that of the control group. \n",
    "2. Calculate the number of standard deviations that the actual number of clicks was from this estimate. \n",
    "3. Finally, calculate a p-value using the normal distribution based on this z-score."
   ]
  },
  {
   "cell_type": "markdown",
   "metadata": {},
   "source": [
    "### Step 1:\n",
    "Calculate the expected number of clicks for the experiment group, if it had the same click-through rate as that of the control group. "
   ]
  },
  {
   "cell_type": "code",
   "execution_count": 75,
   "metadata": {},
   "outputs": [
    {
     "data": {
      "text/plain": [
       "action    857.684803\n",
       "dtype: float64"
      ]
     },
     "execution_count": 75,
     "metadata": {},
     "output_type": "execute_result"
    }
   ],
   "source": [
    "cg_c = df.loc[df['group'] == 'control', ['id', 'action']]\n",
    "cg_c = cg_c[cg_c.action == 'click']\n",
    "c_group = df.loc[df['group'] == 'control', 'id']\n",
    "ctr = cg_c.groupby(['id']).count().sum() / len(c_group)\n",
    "ctr\n",
    "\n",
    "e_group = df.loc[df['group'] == 'experiment', 'id']\n",
    "ex_clk_num = ctr * len(e_group)\n",
    "ex_clk_num\n"
   ]
  },
  {
   "cell_type": "markdown",
   "metadata": {},
   "source": [
    "### Step 2:\n",
    "Calculate the number of standard deviations that the actual number of clicks was from this estimate."
   ]
  },
  {
   "cell_type": "code",
   "execution_count": 79,
   "metadata": {},
   "outputs": [
    {
     "data": {
      "text/plain": [
       "action    2.716073\n",
       "dtype: float64"
      ]
     },
     "execution_count": 79,
     "metadata": {},
     "output_type": "execute_result"
    }
   ],
   "source": [
    "n = len(e_group)\n",
    "p = ctr\n",
    "var = n * p * (1-p)\n",
    "std = np.sqrt(var)\n",
    "std\n",
    "\n",
    "ex_clk = df.loc[df['group'] == 'experiment', ['id', 'action']]\n",
    "ex_clk = ex_clk[ex_clk.action == 'click']\n",
    "ac_ex_clk_num = ex_clk.groupby(['id']).count().sum()\n",
    "ac_ex_clk_num\n",
    "\n",
    "z_score = (ac_ex_clk_num - ex_clk_num)/std\n",
    "z_score"
   ]
  },
  {
   "cell_type": "markdown",
   "metadata": {},
   "source": [
    "### Step 3: \n",
    "Finally, calculate a p-value using the normal distribution based on this z-score."
   ]
  },
  {
   "cell_type": "code",
   "execution_count": 81,
   "metadata": {},
   "outputs": [
    {
     "data": {
      "text/plain": [
       "array([0.00330307])"
      ]
     },
     "execution_count": 81,
     "metadata": {},
     "output_type": "execute_result"
    }
   ],
   "source": [
    "p_val = 1 - stats.norm.cdf(z_score)\n",
    "p_val"
   ]
  },
  {
   "cell_type": "markdown",
   "metadata": {},
   "source": [
    "### Analysis:\n",
    "\n",
    "Does this result roughly match that of the previous statistical test?\n",
    "\n",
    "> Comment: No, probably because I chose to do a chi-squared test."
   ]
  },
  {
   "cell_type": "markdown",
   "metadata": {},
   "source": [
    "## Summary\n",
    "\n",
    "In this lab, you continued to get more practice designing and conducting AB tests. This required additional work preprocessing and formulating the initial problem in a suitable manner. Additionally, you also saw how to verify results, strengthening your knowledge of binomial variables, and reviewing initial statistical concepts of the central limit theorem, standard deviation, z-scores, and their accompanying p-values."
   ]
  }
 ],
 "metadata": {
  "kernelspec": {
   "display_name": "Python 3",
   "language": "python",
   "name": "python3"
  },
  "language_info": {
   "codemirror_mode": {
    "name": "ipython",
    "version": 3
   },
   "file_extension": ".py",
   "mimetype": "text/x-python",
   "name": "python",
   "nbconvert_exporter": "python",
   "pygments_lexer": "ipython3",
   "version": "3.8.5"
  }
 },
 "nbformat": 4,
 "nbformat_minor": 2
}
